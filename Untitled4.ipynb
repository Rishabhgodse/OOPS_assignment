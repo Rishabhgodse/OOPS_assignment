{
  "nbformat": 4,
  "nbformat_minor": 0,
  "metadata": {
    "colab": {
      "provenance": []
    },
    "kernelspec": {
      "name": "python3",
      "display_name": "Python 3"
    },
    "language_info": {
      "name": "python"
    }
  },
  "cells": [
    {
      "cell_type": "code",
      "execution_count": null,
      "metadata": {
        "id": "mdyGVncrCO6j"
      },
      "outputs": [],
      "source": [
        "# 1. What are the five key concepts of Object-Oriented Programming (OOP)?\n"
      ]
    },
    {
      "cell_type": "markdown",
      "source": [
        "The five key concepts of OOP are:\n",
        "\n",
        "Encapsulation: This is the bundling of data and methods that operate on the data within one unit (class). It also restricts direct access to some components (private/protected attributes and methods).\n",
        "\n",
        "Abstraction: This concept hides complex implementation details and shows only the essential features of an object. It focuses on what an object does rather than how it does it.\n",
        "\n",
        "Inheritance: It allows a new class (child class) to inherit properties and behaviors (methods) from an existing class (parent class). This promotes code reusability.\n",
        "\n",
        "Polymorphism: This allows objects of different classes to be treated as objects of a common superclass. It enables the use of a single interface to represent different types of objects.\n",
        "\n",
        "Association: Defines the relationships between objects. This includes Aggregation (a 'whole-part' relationship where the part can exist independently) and Composition (a 'whole-part' relationship where the part cannot exist without the whole).\n",
        "\n"
      ],
      "metadata": {
        "id": "YeTxmO__Cng3"
      }
    },
    {
      "cell_type": "code",
      "source": [
        "# 2. Write a Python class for a Car with attributes for make, model, and year. Include a method to display the car's information.\n"
      ],
      "metadata": {
        "id": "jA7MzcHQCuh0"
      },
      "execution_count": null,
      "outputs": []
    },
    {
      "cell_type": "markdown",
      "source": [
        "class Car:\n",
        "    def __init__(self, make, model, year):\n",
        "        self.make = make\n",
        "        self.model = model\n",
        "        self.year = year\n",
        "    \n",
        "    def display_info(self):\n",
        "        return f\"Car: {self.year} {self.make} {self.model}\"\n",
        "\n",
        "# Example usage\n",
        "my_car = Car(\"Toyota\", \"Corolla\", 2020)\n",
        "print(my_car.display_info())\n",
        "\n",
        "The Car class represents a car object with attributes make, model, and year. The display_info method prints out the car's information in a readable format. When an instance of the Car class is created, the attributes are initialized, and the display_info method can be called to retrieve the details."
      ],
      "metadata": {
        "id": "urdn0xTbCznX"
      }
    },
    {
      "cell_type": "code",
      "source": [
        "# 3. Explain the difference between instance methods and class methods. Provide an example of each.\n"
      ],
      "metadata": {
        "id": "w3PyUkyDC6k2"
      },
      "execution_count": null,
      "outputs": []
    },
    {
      "cell_type": "markdown",
      "source": [
        "Instance Methods: These methods belong to the instance of a class and can access or modify instance-specific data. They are defined with self as their first parameter.\n",
        "\n",
        "Class Methods: These methods belong to the class itself rather than any particular instance. They are marked with the @classmethod decorator and take cls as their first parameter. They can modify the class state, but not the instance-specific state.\n",
        "\n",
        "class MyClass:\n",
        "    # Instance method\n",
        "    def instance_method(self):\n",
        "        return \"Called instance method\"\n",
        "    \n",
        "    # Class method\n",
        "    @classmethod\n",
        "    def class_method(cls):\n",
        "        return \"Called class method\"\n",
        "\n",
        "# Example usage\n",
        "obj = MyClass()\n",
        "print(obj.instance_method())    # Called on instance\n",
        "print(MyClass.class_method())   # Called on class\n",
        "sql\n",
        "Called instance method\n",
        "Called class method"
      ],
      "metadata": {
        "id": "pIpKduQWDCzD"
      }
    },
    {
      "cell_type": "code",
      "source": [
        "# 4. How does Python implement method overloading? Give an example.\n"
      ],
      "metadata": {
        "id": "DFpkCGPiDOF6"
      },
      "execution_count": 1,
      "outputs": []
    },
    {
      "cell_type": "markdown",
      "source": [
        "Python does not directly support method overloading as in languages like Java or C++. However, it can be achieved by using default arguments or *args and **kwargs to accept a variable number of arguments.\n",
        "\n",
        "class OverloadExample:\n",
        "    def add(self, a, b, c=None):\n",
        "        if c is not None:\n",
        "            return a + b + c\n",
        "        else:\n",
        "            return a + b\n",
        "\n",
        "# Example usage\n",
        "obj = OverloadExample()\n",
        "print(obj.add(2, 3))      # Output: 5\n",
        "print(obj.add(2, 3, 4))   # Output: 9\n",
        "\n",
        "5\n",
        "9\n",
        "In this example, method overloading is simulated by using a default argument for c. Depending on whether c is provided, the method will behave differently."
      ],
      "metadata": {
        "id": "6BXY51yjDhhL"
      }
    },
    {
      "cell_type": "code",
      "source": [
        "# 5. What are the three types of access modifiers in Python? How are they denoted?\n"
      ],
      "metadata": {
        "id": "ogsURZ2ZDroo"
      },
      "execution_count": null,
      "outputs": []
    },
    {
      "cell_type": "markdown",
      "source": [
        "Public: Attributes and methods that are accessible from anywhere. Public members are denoted without any leading underscores. Example: self.variable.\n",
        "\n",
        "Protected: Attributes and methods that are accessible within the class and its subclasses but not from outside. They are denoted by a single leading underscore (_). Example: self._variable.\n",
        "\n",
        "Private: Attributes and methods that are accessible only within the class itself, not even by subclasses. Private members are denoted by two leading underscores (__). Example: self.__variable.\n",
        "\n",
        "class AccessModifiers:\n",
        "    def __init__(self):\n",
        "        self.public_var = \"Public\"\n",
        "        self._protected_var = \"Protected\"\n",
        "        self.__private_var = \"Private\"\n",
        "    \n",
        "    def display_vars(self):\n",
        "        return f\"Public: {self.public_var}, Protected: {self._protected_var}, Private: {self.__private_var}\"\n",
        "\n",
        "# Example usage\n",
        "obj = AccessModifiers()\n",
        "print(obj.display_vars())  # Public and Protected can be accessed\n",
        "# Private variable can't be accessed directly\n",
        "# print(obj.__private_var)   # This will throw an AttributeError"
      ],
      "metadata": {
        "id": "AesmBSjLDyUa"
      }
    },
    {
      "cell_type": "code",
      "source": [
        "# 6. Describe the five types of inheritance in Python. Provide a simple example of multiple inheritance.\n"
      ],
      "metadata": {
        "id": "6SAt7jxyD_IZ"
      },
      "execution_count": null,
      "outputs": []
    },
    {
      "cell_type": "markdown",
      "source": [
        "Single Inheritance: A child class inherits from one parent class.\n",
        "Multiple Inheritance: A child class inherits from more than one parent class.\n",
        "Multilevel Inheritance: A class inherits from a class which already inherits from another class.\n",
        "Hierarchical Inheritance: Multiple child classes inherit from the same parent class.\n",
        "Hybrid Inheritance: A combination of more than one type of inheritance.\n",
        "\n",
        "Code for Multiple Inheritance:\n",
        "\n",
        "class A:\n",
        "    def feature_a(self):\n",
        "        print(\"Feature A from Class A\")\n",
        "\n",
        "class B:\n",
        "    def feature_b(self):\n",
        "        print(\"Feature B from Class B\")\n",
        "\n",
        "class C(A, B):\n",
        "    pass\n",
        "\n",
        "# Example usage\n",
        "obj = C()\n",
        "obj.feature_a()  # Inherits from Class A\n",
        "obj.feature_b()  # Inherits from Class B\n",
        "Output:\n",
        "\n",
        "Feature A from Class A\n",
        "Feature B from Class B"
      ],
      "metadata": {
        "id": "F8SQrATYEOVa"
      }
    },
    {
      "cell_type": "code",
      "source": [
        "# 7. What is the Method Resolution Order (MRO) in Python? How can you retrieve it programmatically?\n"
      ],
      "metadata": {
        "id": "0YC95mehEcDQ"
      },
      "execution_count": null,
      "outputs": []
    },
    {
      "cell_type": "markdown",
      "source": [
        "The Method Resolution Order (MRO) is the order in which Python looks for a method in a hierarchy of classes during inheritance. It ensures that methods are resolved properly in cases of multiple or diamond-shaped inheritance. Python uses the C3 linearization algorithm to determine the MRO.\n",
        "\n",
        "You can retrieve the MRO of a class using the ClassName.__mro__ attribute or ClassName.mro() method.\n",
        "\n",
        "\n",
        "class A: pass\n",
        "\n",
        "class B(A): pass\n",
        "\n",
        "class C(A): pass\n",
        "\n",
        "class D(B, C): pass\n",
        "\n",
        "# Retrieve MRO programmatically\n",
        "print(D.mro())\n",
        "print(D.__mro__)\n",
        "Output:\n",
        "arduino\n",
        "\n",
        "[<class '__main__.D'>, <class '__main__.B'>, <class '__main__.C'>, <class '__main__.A'>, <class 'object'>]\n",
        "This output shows the MRO for class D, listing the order in which classes are checked when searching for a method."
      ],
      "metadata": {
        "id": "csBUMiEIEiTT"
      }
    },
    {
      "cell_type": "code",
      "source": [
        "# 8. Create an abstract base class Shape with an abstract method area(). Then create two subclasses Circle and Rectangle that implement the area() method.\n"
      ],
      "metadata": {
        "id": "Y3K6SES2EyNs"
      },
      "execution_count": null,
      "outputs": []
    },
    {
      "cell_type": "markdown",
      "source": [
        "Abstract base classes define methods that must be implemented in subclasses. You can create abstract classes in Python using the abc module, and methods marked with @abstractmethod must be implemented by subclasses.\n",
        "\n",
        "from abc import ABC, abstractmethod\n",
        "\n",
        "# Abstract base class\n",
        "class Shape(ABC):\n",
        "    @abstractmethod\n",
        "    def area(self):\n",
        "        pass\n",
        "\n",
        "# Subclass Circle\n",
        "class Circle(Shape):\n",
        "    def __init__(self, radius):\n",
        "        self.radius = radius\n",
        "\n",
        "    def area(self):\n",
        "        return 3.14 * self.radius ** 2\n",
        "\n",
        "# Subclass Rectangle\n",
        "class Rectangle(Shape):\n",
        "    def __init__(self, length, width):\n",
        "        self.length = length\n",
        "        self.width = width\n",
        "\n",
        "    def area(self):\n",
        "        return self.length * self.width\n",
        "\n",
        "# Example usage:\n",
        "circle = Circle(5)\n",
        "rectangle = Rectangle(4, 6)\n",
        "print(circle.area())        # Output: 78.5\n",
        "print(rectangle.area())     # Output: 24"
      ],
      "metadata": {
        "id": "RrRUlg8-E6pn"
      }
    },
    {
      "cell_type": "code",
      "source": [
        "# 9. Demonstrate polymorphism by creating a function that can work with different shape objects to calculate and print their areas.\n"
      ],
      "metadata": {
        "id": "OstUEsMKFEs2"
      },
      "execution_count": null,
      "outputs": []
    },
    {
      "cell_type": "markdown",
      "source": [
        "Polymorphism allows the same method to be used with objects of different types, as long as they follow the same interface. In this case, the area() method is defined in both the Circle and Rectangle classes.\n",
        "\n",
        "def print_area(shape):\n",
        "    print(f\"The area is {shape.area()}\")\n",
        "\n",
        "# Example usage:\n",
        "circle = Circle(5)\n",
        "rectangle = Rectangle(4, 6)\n",
        "\n",
        "print_area(circle)        # The area is 78.5\n",
        "print_area(rectangle)     # The area is 24\n",
        "In this example, print_area works with both Circle and Rectangle objects, demonstrating polymorphism."
      ],
      "metadata": {
        "id": "OU4KNzFQFLUR"
      }
    },
    {
      "cell_type": "code",
      "source": [
        "# 10. Implement encapsulation in a BankAccount class with private attributes for balance and account_number. Include methods for deposit, withdrawal, and balance inquiry.\n"
      ],
      "metadata": {
        "id": "PrXFQXgLFSwh"
      },
      "execution_count": null,
      "outputs": []
    },
    {
      "cell_type": "markdown",
      "source": [
        "Encapsulation restricts access to the internal state of an object and ensures that data can only be modified through methods defined in the class. In Python, private attributes are denoted by prefixing the variable name with double underscores __.\n",
        "\n",
        "\n",
        "class BankAccount:\n",
        "    def __init__(self, account_number, balance=0):\n",
        "        self.__account_number = account_number\n",
        "        self.__balance = balance\n",
        "\n",
        "    def deposit(self, amount):\n",
        "        self.__balance += amount\n",
        "\n",
        "    def withdraw(self, amount):\n",
        "        if amount <= self.__balance:\n",
        "            self.__balance -= amount\n",
        "        else:\n",
        "            print(\"Insufficient funds\")\n",
        "\n",
        "    def check_balance(self):\n",
        "        return self.__balance\n",
        "\n",
        "# Example usage:\n",
        "account = BankAccount(123456)\n",
        "account.deposit(100)\n",
        "account.withdraw(50)\n",
        "print(account.check_balance())  # Output: 50\n",
        "In this example, the balance and account_number are private and can only be accessed via the provided methods."
      ],
      "metadata": {
        "id": "mhIazeAhFYXg"
      }
    },
    {
      "cell_type": "code",
      "source": [
        "# 11. Write a class that overrides the __str__ and __add__ magic methods. What will these methods allow you to do?\n"
      ],
      "metadata": {
        "id": "IifTg8hdGlwz"
      },
      "execution_count": null,
      "outputs": []
    },
    {
      "cell_type": "markdown",
      "source": [
        "__str__: This magic method defines how an object should be printed or converted to a string.\n",
        "__add__: This magic method defines the behavior of the + operator when used with instances of the class.\n",
        "By overriding these methods, you can customize how objects are printed and added together.\n",
        "\n",
        "class Book:\n",
        "    def __init__(self, title, pages):\n",
        "        self.title = title\n",
        "        self.pages = pages\n",
        "\n",
        "    # Override __str__\n",
        "    def __str__(self):\n",
        "        return f\"{self.title}, {self.pages} pages\"\n",
        "\n",
        "    # Override __add__\n",
        "    def __add__(self, other):\n",
        "        return self.pages + other.pages\n",
        "\n",
        "# Example usage:\n",
        "book1 = Book(\"Book One\", 300)\n",
        "book2 = Book(\"Book Two\", 200)\n",
        "\n",
        "print(book1)              # Output: Book One, 300 pages\n",
        "print(book1 + book2)       # Output: 500\n",
        "In this case, __str__ allows the book object to be printed with a readable string, and __add__ allows two Book objects to be added together by summing their pages."
      ],
      "metadata": {
        "id": "EGzswie_Gr2r"
      }
    },
    {
      "cell_type": "code",
      "source": [
        "# 12. Create a decorator that measures and prints the execution time of a function.\n"
      ],
      "metadata": {
        "id": "1GILW4JNG0qo"
      },
      "execution_count": null,
      "outputs": []
    },
    {
      "cell_type": "markdown",
      "source": [
        "A decorator is a function that takes another function as an argument and extends or alters its behavior. In this case, we will create a decorator that measures the time it takes for the wrapped function to execute.\n",
        "\n",
        "import time\n",
        "\n",
        "def execution_time(func):\n",
        "    def wrapper(*args, **kwargs):\n",
        "        start_time = time.time()\n",
        "        result = func(*args, **kwargs)\n",
        "        end_time = time.time()\n",
        "        print(f\"Execution time: {end_time - start_time} seconds\")\n",
        "        return result\n",
        "    return wrapper\n",
        "\n",
        "# Example usage:\n",
        "@execution_time\n",
        "def slow_function():\n",
        "    time.sleep(2)\n",
        "    return \"Finished\"\n",
        "\n",
        "print(slow_function())\n",
        "Output:\n",
        "css\n",
        "Copy code\n",
        "Execution time: 2.0001234 seconds\n",
        "Finished\n",
        "The decorator execution_time measures how long the slow_function takes to execute."
      ],
      "metadata": {
        "id": "UQUsLDxDG8Xf"
      }
    },
    {
      "cell_type": "code",
      "source": [
        "# 13. Explain the concept of the Diamond Problem in multiple inheritance. How does Python resolve it?\n"
      ],
      "metadata": {
        "id": "dyHllwpJHGcN"
      },
      "execution_count": null,
      "outputs": []
    },
    {
      "cell_type": "markdown",
      "source": [
        "The Diamond Problem occurs in multiple inheritance when a class inherits from two classes that have a common parent class. The issue is that it can create ambiguity in the method resolution order (MRO).\n",
        "\n",
        "Example of the Diamond Problem:\n",
        "\n",
        "\n",
        "class A:\n",
        "    def method(self):\n",
        "        print(\"Method from A\")\n",
        "\n",
        "class B(A):\n",
        "    def method(self):\n",
        "        print(\"Method from B\")\n",
        "\n",
        "class C(A):\n",
        "    def method(self):\n",
        "        print(\"Method from C\")\n",
        "\n",
        "class D(B, C):\n",
        "    pass\n",
        "\n",
        "# Example usage:\n",
        "\n",
        "obj = D()\n",
        "\n",
        "obj.method()  # Method from B (MRO resolves to class B first)\n",
        "Python resolves the Diamond Problem using the C3 Linearization Algorithm, which creates a consistent method resolution order (MRO) by visiting parent classes in a specific order, ensuring each class is only visited once.\n",
        "\n",
        "You can inspect the MRO of a class using ClassName.__mro__."
      ],
      "metadata": {
        "id": "U-owApk8HO8W"
      }
    },
    {
      "cell_type": "code",
      "source": [
        "# 14. Write a class method that keeps track of the number of instances created from a class.\n"
      ],
      "metadata": {
        "id": "Q8-nrKhDHaAp"
      },
      "execution_count": null,
      "outputs": []
    },
    {
      "cell_type": "markdown",
      "source": [
        "Class methods are methods that operate on the class rather than the instance. A class method can be used to keep track of how many instances of a class have been created.\n",
        "\n",
        "\n",
        "class Counter:\n",
        "    instance_count = 0\n",
        "    \n",
        "    def __init__(self):\n",
        "        Counter.instance_count += 1\n",
        "    \n",
        "    @classmethod\n",
        "    def get_instance_count(cls):\n",
        "        return cls.instance_count\n",
        "\n",
        "# Example usage:\n",
        "obj1 = Counter()\n",
        "obj2 = Counter()\n",
        "print(Counter.get_instance_count())  # Output: 2\n",
        "In this example, the class keeps track of the number of instances created using the instance_count class attribute."
      ],
      "metadata": {
        "id": "ctAXoeqOHgeD"
      }
    },
    {
      "cell_type": "code",
      "source": [
        "# 15. Implement a static method in a class that checks if a given year is a leap year.\n"
      ],
      "metadata": {
        "id": "xULMd9LbHqJ1"
      },
      "execution_count": null,
      "outputs": []
    },
    {
      "cell_type": "markdown",
      "source": [
        "A static method is a method that doesn’t operate on an instance or class but is related to the class. It is defined with the @staticmethod decorator.\n",
        "\n",
        "class Calendar:\n",
        "    \n",
        "    @staticmethod\n",
        "    def is_leap_year(year):\n",
        "        return year % 4 == 0 and (year % 100 != 0 or year % 400 == 0)\n",
        "\n",
        "# Example usage:\n",
        "\n",
        "print(Calendar.is_leap_year(2020))  # Output: True\n",
        "\n",
        "print(Calendar.is_leap_year(2023))  # Output: False\n",
        "\n",
        "In this example, the is_leap_year method checks whether a given year is a leap year without needing an instance of the Calendar class."
      ],
      "metadata": {
        "id": "91sA6BzyH4Kx"
      }
    }
  ]
}